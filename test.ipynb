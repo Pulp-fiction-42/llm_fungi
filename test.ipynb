{
 "cells": [
  {
   "cell_type": "markdown",
   "metadata": {
    "vscode": {
     "languageId": "plaintext"
    }
   },
   "source": [
    "trail 1 \n",
    "项目结构回顾：\n",
    "    功能：实现单次微调或超参数优化(基于Optuna)\n",
    "    数据集:\n",
    "        基于datasets-cli并指定--reference参数下载了NCBI上Taxonomy是Fungi的genome file\n",
    "        原始文件中显示5089条文件，但3811下载的路径下只找到2363条\n",
    "        统计这批数据的metadata，我选择了这几个指标：Accession, GC content, Assembly level, Genome size，organism name\n",
    "        以下代码用于获取这批数据的metadata:\n",
    "\n",
    "        ```bash\n",
    "        cat accession_paths.txt | awk -F '/' '{print $(NF)}' | cut -d '.' -f1 > accessions.txt\n",
    "         datasets summary genome accession --inputfile accessions.txt --as-json-lines | dataformat tsv genome --fields accession,organism-name,assminfo-level,assmstats-gc-percent > genome_metadata.tsv\n",
    "        ```\n",
    "        由于datasets-cli获取genome size的参数不知道，所以用下面的shell脚本根据原始文件映射得到:\n",
    "        \n",
    "\n",
    "        ```bash\n",
    "        awk 'BEGIN{OFS=\"\\t\"} NR==FNR{a[$1]=$NF; next} FNR==1{print $0, \"Total Sequence Length\"} {print $0, a[$1]}' \\\n",
    "         original_fungi_assembly_stats.tsv \\\n",
    "        genome_metadata.tsv > genome_metadata_with_length.tsv\n",
    "\n",
    "        echo \"合并完成，输出文件为 genome_metadata_with_length.tsv\"\n",
    "        ```\n",
    "        这样就得到了目标指标的metadata文件，文件内容如下：\n",
    "\n",
    "        ```bash\n",
    "        Assembly Accession      Organism Name   Assembly Level  Assembly Stats GC Percent       Total Sequence Length\n",
    "        GCA_000412225.2 [Ashbya] aceris (nom. inval.)   Complete Genome 51.5    8867527\n",
    "        GCA_947297635.1 [Candida] aaseri        Contig  34      10658036\n",
    "        GCA_030558135.1 [Candida] adriatica     Scaffold        52      10407487\n",
    "        GCA_963924405.1 [Candida] anglica       Complete Genome 38.5    13719988\n",
    "        GCA_030566955.1 [Candida] anutae        Scaffold        48      11255714\n",
    "        GCA_001661425.1 [Candida] arabinofermentans NRRL YB-2248        Scaffold        34.5    13233932\n",
    "        GCA_030561325.1 [Candida] atlantica     Scaffold        39      11581361\n",
    "        GCA_030566905.1 [Candida] aurita        Scaffold        35.5    19613085\n",
    "        ```"
   ]
  },
  {
   "cell_type": "code",
   "execution_count": null,
   "metadata": {},
   "outputs": [],
   "source": [
    "import pandas as pd\n",
    "\n",
    "# Load the CSV file\n",
    "csv_file_path = 'parsed_genome.csv'\n",
    "df = pd.read_csv(csv_file_path)\n",
    "\n",
    "# Display the first few rows of the dataframe to inspect the data\n",
    "print(df.head())"
   ]
  },
  {
   "cell_type": "code",
   "execution_count": 2,
   "metadata": {},
   "outputs": [],
   "source": [
    "unique_labels = df['organism_name'].unique().tolist()"
   ]
  },
  {
   "cell_type": "code",
   "execution_count": 3,
   "metadata": {},
   "outputs": [
    {
     "data": {
      "text/plain": [
       "['Fusarium lyarnte (nom. inval.)']"
      ]
     },
     "execution_count": 3,
     "metadata": {},
     "output_type": "execute_result"
    }
   ],
   "source": [
    "unique_labels"
   ]
  },
  {
   "cell_type": "code",
   "execution_count": 4,
   "metadata": {},
   "outputs": [],
   "source": [
    "label_to_id = {label: i for i, label in enumerate(unique_labels)}"
   ]
  },
  {
   "cell_type": "code",
   "execution_count": 5,
   "metadata": {},
   "outputs": [
    {
     "data": {
      "text/plain": [
       "{'Fusarium lyarnte (nom. inval.)': 0}"
      ]
     },
     "execution_count": 5,
     "metadata": {},
     "output_type": "execute_result"
    }
   ],
   "source": [
    "label_to_id"
   ]
  },
  {
   "cell_type": "code",
   "execution_count": 6,
   "metadata": {},
   "outputs": [],
   "source": [
    "train_df = df.sample(frac=0.8, random_state=42)\n",
    "val_df = df.drop(train_df.index)"
   ]
  },
  {
   "cell_type": "code",
   "execution_count": 9,
   "metadata": {},
   "outputs": [
    {
     "data": {
      "text/html": [
       "<div>\n",
       "<style scoped>\n",
       "    .dataframe tbody tr th:only-of-type {\n",
       "        vertical-align: middle;\n",
       "    }\n",
       "\n",
       "    .dataframe tbody tr th {\n",
       "        vertical-align: top;\n",
       "    }\n",
       "\n",
       "    .dataframe thead th {\n",
       "        text-align: right;\n",
       "    }\n",
       "</style>\n",
       "<table border=\"1\" class=\"dataframe\">\n",
       "  <thead>\n",
       "    <tr style=\"text-align: right;\">\n",
       "      <th></th>\n",
       "      <th>contig</th>\n",
       "      <th>contig_accession</th>\n",
       "      <th>organism_name</th>\n",
       "      <th>label</th>\n",
       "    </tr>\n",
       "  </thead>\n",
       "  <tbody>\n",
       "    <tr>\n",
       "      <th>1118</th>\n",
       "      <td>TAGTATCGCGAAGACTCTGATTGGCTAGATCCACTCCCCAGGCATT...</td>\n",
       "      <td>JAAVUB010001119.1</td>\n",
       "      <td>Fusarium lyarnte (nom. inval.)</td>\n",
       "      <td>0</td>\n",
       "    </tr>\n",
       "    <tr>\n",
       "      <th>643</th>\n",
       "      <td>TTTCCACGTTGGATGGGGGATGGCTGATGGGTGAAGAACGGAAGGG...</td>\n",
       "      <td>JAAVUB010000644.1</td>\n",
       "      <td>Fusarium lyarnte (nom. inval.)</td>\n",
       "      <td>0</td>\n",
       "    </tr>\n",
       "    <tr>\n",
       "      <th>422</th>\n",
       "      <td>CTTTCAAGGTGTGCGGCGCGATCTCACGAGGAGTGAAGCGATGACT...</td>\n",
       "      <td>JAAVUB010000423.1</td>\n",
       "      <td>Fusarium lyarnte (nom. inval.)</td>\n",
       "      <td>0</td>\n",
       "    </tr>\n",
       "    <tr>\n",
       "      <th>413</th>\n",
       "      <td>TGTTAAGAGGATATCACCAAAGACTTGATCTACATTTGAGGTCCTG...</td>\n",
       "      <td>JAAVUB010000414.1</td>\n",
       "      <td>Fusarium lyarnte (nom. inval.)</td>\n",
       "      <td>0</td>\n",
       "    </tr>\n",
       "    <tr>\n",
       "      <th>451</th>\n",
       "      <td>ttttctttttctttttactctcttcaacttttAACTTTCTTAACCT...</td>\n",
       "      <td>JAAVUB010000452.1</td>\n",
       "      <td>Fusarium lyarnte (nom. inval.)</td>\n",
       "      <td>0</td>\n",
       "    </tr>\n",
       "    <tr>\n",
       "      <th>...</th>\n",
       "      <td>...</td>\n",
       "      <td>...</td>\n",
       "      <td>...</td>\n",
       "      <td>...</td>\n",
       "    </tr>\n",
       "    <tr>\n",
       "      <th>476</th>\n",
       "      <td>GATTAAGATAATATTAATCCTTATATTAATTCCTATTGTCCTTAAT...</td>\n",
       "      <td>JAAVUB010000477.1</td>\n",
       "      <td>Fusarium lyarnte (nom. inval.)</td>\n",
       "      <td>0</td>\n",
       "    </tr>\n",
       "    <tr>\n",
       "      <th>157</th>\n",
       "      <td>ATTCAATAGTTTACTTTCTCTAATAGTTTCTATTCCAGGAATTAAA...</td>\n",
       "      <td>JAAVUB010000158.1</td>\n",
       "      <td>Fusarium lyarnte (nom. inval.)</td>\n",
       "      <td>0</td>\n",
       "    </tr>\n",
       "    <tr>\n",
       "      <th>1195</th>\n",
       "      <td>AGGAGCCGTGGACAGCTCATACCAAAGACCGCTGTCTGACCAAGAC...</td>\n",
       "      <td>JAAVUB010001196.1</td>\n",
       "      <td>Fusarium lyarnte (nom. inval.)</td>\n",
       "      <td>0</td>\n",
       "    </tr>\n",
       "    <tr>\n",
       "      <th>16</th>\n",
       "      <td>TCGGCCACCCCACCCCCCCCACGCATTACCAGTGACCGGCGTTGTA...</td>\n",
       "      <td>JAAVUB010000017.1</td>\n",
       "      <td>Fusarium lyarnte (nom. inval.)</td>\n",
       "      <td>0</td>\n",
       "    </tr>\n",
       "    <tr>\n",
       "      <th>1072</th>\n",
       "      <td>GCATAATATGATCTCATTACCTACCACAGCTTCAGAAAGAAAAAAC...</td>\n",
       "      <td>JAAVUB010001073.1</td>\n",
       "      <td>Fusarium lyarnte (nom. inval.)</td>\n",
       "      <td>0</td>\n",
       "    </tr>\n",
       "  </tbody>\n",
       "</table>\n",
       "<p>1202 rows × 4 columns</p>\n",
       "</div>"
      ],
      "text/plain": [
       "                                                 contig   contig_accession  \\\n",
       "1118  TAGTATCGCGAAGACTCTGATTGGCTAGATCCACTCCCCAGGCATT...  JAAVUB010001119.1   \n",
       "643   TTTCCACGTTGGATGGGGGATGGCTGATGGGTGAAGAACGGAAGGG...  JAAVUB010000644.1   \n",
       "422   CTTTCAAGGTGTGCGGCGCGATCTCACGAGGAGTGAAGCGATGACT...  JAAVUB010000423.1   \n",
       "413   TGTTAAGAGGATATCACCAAAGACTTGATCTACATTTGAGGTCCTG...  JAAVUB010000414.1   \n",
       "451   ttttctttttctttttactctcttcaacttttAACTTTCTTAACCT...  JAAVUB010000452.1   \n",
       "...                                                 ...                ...   \n",
       "476   GATTAAGATAATATTAATCCTTATATTAATTCCTATTGTCCTTAAT...  JAAVUB010000477.1   \n",
       "157   ATTCAATAGTTTACTTTCTCTAATAGTTTCTATTCCAGGAATTAAA...  JAAVUB010000158.1   \n",
       "1195  AGGAGCCGTGGACAGCTCATACCAAAGACCGCTGTCTGACCAAGAC...  JAAVUB010001196.1   \n",
       "16    TCGGCCACCCCACCCCCCCCACGCATTACCAGTGACCGGCGTTGTA...  JAAVUB010000017.1   \n",
       "1072  GCATAATATGATCTCATTACCTACCACAGCTTCAGAAAGAAAAAAC...  JAAVUB010001073.1   \n",
       "\n",
       "                       organism_name  label  \n",
       "1118  Fusarium lyarnte (nom. inval.)      0  \n",
       "643   Fusarium lyarnte (nom. inval.)      0  \n",
       "422   Fusarium lyarnte (nom. inval.)      0  \n",
       "413   Fusarium lyarnte (nom. inval.)      0  \n",
       "451   Fusarium lyarnte (nom. inval.)      0  \n",
       "...                              ...    ...  \n",
       "476   Fusarium lyarnte (nom. inval.)      0  \n",
       "157   Fusarium lyarnte (nom. inval.)      0  \n",
       "1195  Fusarium lyarnte (nom. inval.)      0  \n",
       "16    Fusarium lyarnte (nom. inval.)      0  \n",
       "1072  Fusarium lyarnte (nom. inval.)      0  \n",
       "\n",
       "[1202 rows x 4 columns]"
      ]
     },
     "execution_count": 9,
     "metadata": {},
     "output_type": "execute_result"
    }
   ],
   "source": [
    "train_df"
   ]
  },
  {
   "cell_type": "code",
   "execution_count": 8,
   "metadata": {},
   "outputs": [],
   "source": [
    "train_df['label'] = train_df['organism_name'].map(label_to_id)\n",
    "val_df['label'] = val_df['organism_name'].map(label_to_id)"
   ]
  },
  {
   "cell_type": "code",
   "execution_count": 10,
   "metadata": {},
   "outputs": [],
   "source": [
    "from datasets import load_dataset, Dataset, DatasetDict"
   ]
  },
  {
   "cell_type": "code",
   "execution_count": 11,
   "metadata": {},
   "outputs": [],
   "source": [
    "dataset_dict = {\n",
    "    'train': Dataset.from_pandas(train_df),\n",
    "    'validation': Dataset.from_pandas(val_df)\n",
    "}"
   ]
  },
  {
   "cell_type": "code",
   "execution_count": 12,
   "metadata": {},
   "outputs": [
    {
     "data": {
      "text/plain": [
       "{'train': Dataset({\n",
       "     features: ['contig', 'contig_accession', 'organism_name', 'label', '__index_level_0__'],\n",
       "     num_rows: 1202\n",
       " }),\n",
       " 'validation': Dataset({\n",
       "     features: ['contig', 'contig_accession', 'organism_name', 'label', '__index_level_0__'],\n",
       "     num_rows: 300\n",
       " })}"
      ]
     },
     "execution_count": 12,
     "metadata": {},
     "output_type": "execute_result"
    }
   ],
   "source": [
    "dataset_dict"
   ]
  },
  {
   "cell_type": "code",
   "execution_count": 13,
   "metadata": {},
   "outputs": [
    {
     "name": "stdout",
     "output_type": "stream",
     "text": [
      "DatasetDict({\n",
      "    train: Dataset({\n",
      "        features: ['contig', 'contig_accession', 'organism_name', 'label', '__index_level_0__'],\n",
      "        num_rows: 1202\n",
      "    })\n",
      "    validation: Dataset({\n",
      "        features: ['contig', 'contig_accession', 'organism_name', 'label', '__index_level_0__'],\n",
      "        num_rows: 300\n",
      "    })\n",
      "})\n"
     ]
    }
   ],
   "source": [
    "dataset = DatasetDict(dataset_dict)\n",
    "print(dataset)"
   ]
  }
 ],
 "metadata": {
  "kernelspec": {
   "display_name": "Python 3",
   "language": "python",
   "name": "python3"
  },
  "language_info": {
   "codemirror_mode": {
    "name": "ipython",
    "version": 3
   },
   "file_extension": ".py",
   "mimetype": "text/x-python",
   "name": "python",
   "nbconvert_exporter": "python",
   "pygments_lexer": "ipython3",
   "version": "2.7.undefined"
  }
 },
 "nbformat": 4,
 "nbformat_minor": 2
}
