{
 "cells": [
  {
   "cell_type": "markdown",
   "metadata": {
    "vscode": {
     "languageId": "plaintext"
    }
   },
   "source": [
    "trail 1 \n",
    "项目结构回顾：\n",
    "    功能：实现单次微调或超参数优化(基于Optuna)\n",
    "    数据集:\n",
    "        基于datasets-cli并指定--reference参数下载了NCBI上Taxonomy是Fungi的genome file\n",
    "        原始文件中显示5089条文件，但3811下载的路径下只找到2363条\n",
    "        统计这批数据的metadata，我选择了这几个指标：Accession, GC content, Assembly level, Genome size，organism name\n",
    "        以下代码用于获取这批数据的metadata:\n",
    "\n",
    "        ```bash\n",
    "        cat accession_paths.txt | awk -F '/' '{print $(NF)}' | cut -d '.' -f1 > accessions.txt\n",
    "         datasets summary genome accession --inputfile accessions.txt --as-json-lines | dataformat tsv genome --fields accession,organism-name,assminfo-level,assmstats-gc-percent > genome_metadata.tsv\n",
    "        ```\n",
    "        由于datasets-cli获取genome size的参数不知道，所以用下面的shell脚本根据原始文件映射得到:\n",
    "        \n",
    "\n",
    "        ```bash\n",
    "        awk 'BEGIN{OFS=\"\\t\"} NR==FNR{a[$1]=$NF; next} FNR==1{print $0, \"Total Sequence Length\"} {print $0, a[$1]}' \\\n",
    "         original_fungi_assembly_stats.tsv \\\n",
    "        genome_metadata.tsv > genome_metadata_with_length.tsv\n",
    "\n",
    "        echo \"合并完成，输出文件为 genome_metadata_with_length.tsv\"\n",
    "        ```\n",
    "        这样就得到了目标指标的metadata文件，文件内容如下：\n",
    "\n",
    "        ```bash\n",
    "        Assembly Accession      Organism Name   Assembly Level  Assembly Stats GC Percent       Total Sequence Length\n",
    "        GCA_000412225.2 [Ashbya] aceris (nom. inval.)   Complete Genome 51.5    8867527\n",
    "        GCA_947297635.1 [Candida] aaseri        Contig  34      10658036\n",
    "        GCA_030558135.1 [Candida] adriatica     Scaffold        52      10407487\n",
    "        GCA_963924405.1 [Candida] anglica       Complete Genome 38.5    13719988\n",
    "        GCA_030566955.1 [Candida] anutae        Scaffold        48      11255714\n",
    "        GCA_001661425.1 [Candida] arabinofermentans NRRL YB-2248        Scaffold        34.5    13233932\n",
    "        GCA_030561325.1 [Candida] atlantica     Scaffold        39      11581361\n",
    "        GCA_030566905.1 [Candida] aurita        Scaffold        35.5    19613085\n",
    "        ```"
   ]
  },
  {
   "cell_type": "code",
   "execution_count": null,
   "metadata": {},
   "outputs": [],
   "source": [
    "import torch"
   ]
  }
 ],
 "metadata": {
  "kernelspec": {
   "display_name": "Python 3",
   "language": "python",
   "name": "python3"
  },
  "language_info": {
   "codemirror_mode": {
    "name": "ipython",
    "version": 3
   },
   "file_extension": ".py",
   "mimetype": "text/x-python",
   "name": "python",
   "nbconvert_exporter": "python",
   "pygments_lexer": "ipython3",
   "version": "3.12.10"
  }
 },
 "nbformat": 4,
 "nbformat_minor": 2
}
